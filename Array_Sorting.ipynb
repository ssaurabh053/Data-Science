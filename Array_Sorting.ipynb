{
  "nbformat": 4,
  "nbformat_minor": 0,
  "metadata": {
    "colab": {
      "name": "Array Sorting.ipynb",
      "provenance": [],
      "collapsed_sections": [],
      "authorship_tag": "ABX9TyNSRwVMUiKGfY9D/ErO+pOM",
      "include_colab_link": true
    },
    "kernelspec": {
      "name": "python3",
      "display_name": "Python 3"
    },
    "language_info": {
      "name": "python"
    }
  },
  "cells": [
    {
      "cell_type": "markdown",
      "metadata": {
        "id": "view-in-github",
        "colab_type": "text"
      },
      "source": [
        "<a href=\"https://colab.research.google.com/github/ssaurabh053/Data-Science/blob/main/Array_Sorting.ipynb\" target=\"_parent\"><img src=\"https://colab.research.google.com/assets/colab-badge.svg\" alt=\"Open In Colab\"/></a>"
      ]
    },
    {
      "cell_type": "code",
      "execution_count": null,
      "metadata": {
        "id": "s-cPc65qXNoB"
      },
      "outputs": [],
      "source": [
        "import numpy as np"
      ]
    },
    {
      "cell_type": "code",
      "source": [
        "np.sort(arr,axis=0,kind='mergesort')"
      ],
      "metadata": {
        "colab": {
          "base_uri": "https://localhost:8080/"
        },
        "id": "AF8941U3kGgX",
        "outputId": "42e71c80-0159-43aa-b5fb-b141db127f71"
      },
      "execution_count": null,
      "outputs": [
        {
          "output_type": "execute_result",
          "data": {
            "text/plain": [
              "array([[1, 2, 3, 5, 2],\n",
              "       [1, 3, 4, 6, 7],\n",
              "       [9, 5, 4, 6, 8]])"
            ]
          },
          "metadata": {},
          "execution_count": 4
        }
      ]
    },
    {
      "cell_type": "code",
      "source": [
        "arr=np.array([[1,2,3,5,8],\n",
        "          [9,5,4,6,7],\n",
        "          [1,3,4,6,2]])"
      ],
      "metadata": {
        "id": "2pXNFPXfjvuO"
      },
      "execution_count": null,
      "outputs": []
    },
    {
      "cell_type": "code",
      "source": [
        "np.sort(arr,axis=1,kind='mergesort') #Row wise"
      ],
      "metadata": {
        "colab": {
          "base_uri": "https://localhost:8080/"
        },
        "id": "-6d8FWwqkUcs",
        "outputId": "e23f5dae-b0a8-4f80-b3ce-51a7ab229236"
      },
      "execution_count": null,
      "outputs": [
        {
          "output_type": "execute_result",
          "data": {
            "text/plain": [
              "array([[1, 2, 3, 5, 8],\n",
              "       [4, 5, 6, 7, 9],\n",
              "       [1, 2, 3, 4, 6]])"
            ]
          },
          "metadata": {},
          "execution_count": 5
        }
      ]
    },
    {
      "cell_type": "code",
      "source": [
        "arr"
      ],
      "metadata": {
        "colab": {
          "base_uri": "https://localhost:8080/"
        },
        "id": "0s3OnHdlkpVX",
        "outputId": "0f7341ea-7d74-462b-f364-83aa19a16bbc"
      },
      "execution_count": null,
      "outputs": [
        {
          "output_type": "execute_result",
          "data": {
            "text/plain": [
              "array([[1, 2, 3, 5, 8],\n",
              "       [9, 5, 4, 6, 7],\n",
              "       [1, 3, 4, 6, 2]])"
            ]
          },
          "metadata": {},
          "execution_count": 7
        }
      ]
    },
    {
      "cell_type": "code",
      "source": [
        "np.sort(arr,axis=0,kind='quick')"
      ],
      "metadata": {
        "colab": {
          "base_uri": "https://localhost:8080/"
        },
        "id": "uotfEPfAkv2y",
        "outputId": "210144fc-d077-4e90-bc11-b3621cbe13b4"
      },
      "execution_count": null,
      "outputs": [
        {
          "output_type": "execute_result",
          "data": {
            "text/plain": [
              "array([[1, 2, 3, 5, 2],\n",
              "       [1, 3, 4, 6, 7],\n",
              "       [9, 5, 4, 6, 8]])"
            ]
          },
          "metadata": {},
          "execution_count": 11
        }
      ]
    },
    {
      "cell_type": "code",
      "source": [
        "np.sort(arr,axis=0,kind='heap')"
      ],
      "metadata": {
        "colab": {
          "base_uri": "https://localhost:8080/"
        },
        "id": "LLuGfyDrlAaX",
        "outputId": "372ca21f-d4af-4d20-dcb5-c67c32fcc4e1"
      },
      "execution_count": null,
      "outputs": [
        {
          "output_type": "execute_result",
          "data": {
            "text/plain": [
              "array([[1, 2, 3, 5, 2],\n",
              "       [1, 3, 4, 6, 7],\n",
              "       [9, 5, 4, 6, 8]])"
            ]
          },
          "metadata": {},
          "execution_count": 12
        }
      ]
    },
    {
      "cell_type": "code",
      "source": [
        "np.sort(arr,axis=0,kind='stable')"
      ],
      "metadata": {
        "colab": {
          "base_uri": "https://localhost:8080/"
        },
        "id": "8DX8KTVtk5-c",
        "outputId": "e839508e-1fad-47ea-f55a-f239d4dda0e0"
      },
      "execution_count": null,
      "outputs": [
        {
          "output_type": "execute_result",
          "data": {
            "text/plain": [
              "array([[1, 2, 3, 5, 2],\n",
              "       [1, 3, 4, 6, 7],\n",
              "       [9, 5, 4, 6, 8]])"
            ]
          },
          "metadata": {},
          "execution_count": 13
        }
      ]
    }
  ]
}