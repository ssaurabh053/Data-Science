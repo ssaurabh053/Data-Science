{
  "nbformat": 4,
  "nbformat_minor": 0,
  "metadata": {
    "colab": {
      "name": "Arrays are faster than list.ipynb",
      "provenance": [],
      "collapsed_sections": [],
      "authorship_tag": "ABX9TyPq7NNJ+jjSQGEoJ2vqGFih",
      "include_colab_link": true
    },
    "kernelspec": {
      "name": "python3",
      "display_name": "Python 3"
    },
    "language_info": {
      "name": "python"
    }
  },
  "cells": [
    {
      "cell_type": "markdown",
      "metadata": {
        "id": "view-in-github",
        "colab_type": "text"
      },
      "source": [
        "<a href=\"https://colab.research.google.com/github/ssaurabh053/Data-Science/blob/main/Arrays_are_faster_than_list.ipynb\" target=\"_parent\"><img src=\"https://colab.research.google.com/assets/colab-badge.svg\" alt=\"Open In Colab\"/></a>"
      ]
    },
    {
      "cell_type": "code",
      "execution_count": null,
      "metadata": {
        "id": "q4Z2d9ujaOdP"
      },
      "outputs": [],
      "source": [
        "import numpy as np"
      ]
    },
    {
      "cell_type": "code",
      "source": [
        "##Find number of elements in list [1,2,3,4,5,6,7,8,9,10,11,12,13,14,15] which are greater than 5\n",
        "lst =[1,2,3,4,5,6,7,8,9,10,11,12,13,14,15]\n",
        "q=0\n",
        "for i in lst :  \n",
        "  if i > 5 :\n",
        "    print ('element :', i)\n",
        "    q+=1\n",
        "print('count :',q)"
      ],
      "metadata": {
        "colab": {
          "base_uri": "https://localhost:8080/"
        },
        "id": "_ddCYhP5aTKo",
        "outputId": "a3dbe707-b6e1-4dd5-ddbe-12b72323b2d3"
      },
      "execution_count": null,
      "outputs": [
        {
          "output_type": "stream",
          "name": "stdout",
          "text": [
            "element : 6\n",
            "element : 7\n",
            "element : 8\n",
            "element : 9\n",
            "element : 10\n",
            "element : 11\n",
            "element : 12\n",
            "element : 13\n",
            "element : 14\n",
            "element : 15\n",
            "count : 10\n"
          ]
        }
      ]
    },
    {
      "cell_type": "code",
      "source": [
        "arr = np.array(lst)"
      ],
      "metadata": {
        "id": "DHxbLakQaezT"
      },
      "execution_count": null,
      "outputs": []
    },
    {
      "cell_type": "code",
      "source": [
        "arr > 5"
      ],
      "metadata": {
        "colab": {
          "base_uri": "https://localhost:8080/"
        },
        "id": "Qlj-PUJybXq8",
        "outputId": "a9b4a20c-97bf-4b14-b7c3-b87debcc7605"
      },
      "execution_count": null,
      "outputs": [
        {
          "output_type": "execute_result",
          "data": {
            "text/plain": [
              "array([False, False, False, False, False,  True,  True,  True,  True,\n",
              "        True,  True,  True,  True,  True,  True])"
            ]
          },
          "metadata": {},
          "execution_count": 11
        }
      ]
    },
    {
      "cell_type": "code",
      "source": [
        "arr[arr>5] #get elements in one line of code"
      ],
      "metadata": {
        "colab": {
          "base_uri": "https://localhost:8080/"
        },
        "id": "cOyx2rFcbZk6",
        "outputId": "a66bd56b-253b-459f-b7ee-27f237daafbc"
      },
      "execution_count": null,
      "outputs": [
        {
          "output_type": "execute_result",
          "data": {
            "text/plain": [
              "array([ 6,  7,  8,  9, 10, 11, 12, 13, 14, 15])"
            ]
          },
          "metadata": {},
          "execution_count": 12
        }
      ]
    },
    {
      "cell_type": "code",
      "source": [
        "len(arr[arr>5]) #Get count in one line of code"
      ],
      "metadata": {
        "colab": {
          "base_uri": "https://localhost:8080/"
        },
        "id": "0Z4bE7qYbbkF",
        "outputId": "65317482-b734-4d9d-b22d-fbca5e3abda5"
      },
      "execution_count": null,
      "outputs": [
        {
          "output_type": "execute_result",
          "data": {
            "text/plain": [
              "10"
            ]
          },
          "metadata": {},
          "execution_count": 13
        }
      ]
    }
  ]
}